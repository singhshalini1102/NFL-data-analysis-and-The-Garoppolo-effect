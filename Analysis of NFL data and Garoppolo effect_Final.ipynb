{
 "cells": [
  {
   "cell_type": "code",
   "execution_count": 1,
   "metadata": {},
   "outputs": [],
   "source": [
    "from __future__ import division\n",
    "import pandas as pd\n",
    "import numpy as np\n",
    "from sklearn import preprocessing\n",
    "import datetime as dt\n",
    "from sklearn.model_selection import train_test_split\n",
    "from sklearn.ensemble import RandomForestClassifier\n",
    "from sklearn.naive_bayes import MultinomialNB\n",
    "from sklearn.metrics import confusion_matrix\n",
    "from sklearn import metrics\n",
    "from sklearn.metrics import accuracy_score\n",
    "import seaborn as sns\n",
    "import matplotlib.pyplot as plt\n",
    "from matplotlib import cm\n",
    "plt.style.use('ggplot')\n",
    "%matplotlib inline"
   ]
  },
  {
   "cell_type": "markdown",
   "metadata": {},
   "source": [
    "## Part 1. Analysis of NFL data using Machine Learning\n",
    "\n",
    "The New England Patriots have been the best team in the NFL over the last two decades, and Tom Brady, Patriots quarterback player has been the best player in the NFL over that time span. By using Machine Learning, we tried to predict the plays before they happen which will help strategize the defence scheme"
   ]
  },
  {
   "cell_type": "code",
   "execution_count": 2,
   "metadata": {},
   "outputs": [],
   "source": [
    "NFL_data= pd.read_csv('/Users/shalinisingh/Desktop/Projects/NFL/NFL_Play_by_Play_2009-2018.csv', low_memory = False)"
   ]
  },
  {
   "cell_type": "markdown",
   "metadata": {},
   "source": [
    "### Data Description\n",
    "\n",
    "The play-by-play data from Kaggle contains details of all the games from 2009 through 2018 NFL seasons. For our project we took season data from 2014 to 2018 (~250MB data size). The dataset has 0.2 million rows and 255 columns. Observations reflect each play which contains detailed information on game situation, player involved, results, and advanced metrics such as expected point and win probability values."
   ]
  },
  {
   "cell_type": "code",
   "execution_count": 3,
   "metadata": {},
   "outputs": [
    {
     "data": {
      "text/plain": [
       "(224464, 255)"
      ]
     },
     "execution_count": 3,
     "metadata": {},
     "output_type": "execute_result"
    }
   ],
   "source": [
    "NFL_data.shape"
   ]
  },
  {
   "cell_type": "code",
   "execution_count": 4,
   "metadata": {},
   "outputs": [
    {
     "data": {
      "text/html": [
       "<div>\n",
       "<style scoped>\n",
       "    .dataframe tbody tr th:only-of-type {\n",
       "        vertical-align: middle;\n",
       "    }\n",
       "\n",
       "    .dataframe tbody tr th {\n",
       "        vertical-align: top;\n",
       "    }\n",
       "\n",
       "    .dataframe thead th {\n",
       "        text-align: right;\n",
       "    }\n",
       "</style>\n",
       "<table border=\"1\" class=\"dataframe\">\n",
       "  <thead>\n",
       "    <tr style=\"text-align: right;\">\n",
       "      <th></th>\n",
       "      <th>play_id</th>\n",
       "      <th>game_id</th>\n",
       "      <th>home_team</th>\n",
       "      <th>away_team</th>\n",
       "      <th>posteam</th>\n",
       "      <th>posteam_type</th>\n",
       "      <th>defteam</th>\n",
       "      <th>side_of_field</th>\n",
       "      <th>yardline_100</th>\n",
       "      <th>game_date</th>\n",
       "      <th>...</th>\n",
       "      <th>penalty_player_id</th>\n",
       "      <th>penalty_player_name</th>\n",
       "      <th>penalty_yards</th>\n",
       "      <th>replay_or_challenge</th>\n",
       "      <th>replay_or_challenge_result</th>\n",
       "      <th>penalty_type</th>\n",
       "      <th>defensive_two_point_attempt</th>\n",
       "      <th>defensive_two_point_conv</th>\n",
       "      <th>defensive_extra_point_attempt</th>\n",
       "      <th>defensive_extra_point_conv</th>\n",
       "    </tr>\n",
       "  </thead>\n",
       "  <tbody>\n",
       "    <tr>\n",
       "      <th>0</th>\n",
       "      <td>36</td>\n",
       "      <td>2014090400</td>\n",
       "      <td>SEA</td>\n",
       "      <td>GB</td>\n",
       "      <td>GB</td>\n",
       "      <td>away</td>\n",
       "      <td>SEA</td>\n",
       "      <td>SEA</td>\n",
       "      <td>35.0</td>\n",
       "      <td>9/4/2014</td>\n",
       "      <td>...</td>\n",
       "      <td>NaN</td>\n",
       "      <td>NaN</td>\n",
       "      <td>NaN</td>\n",
       "      <td>0</td>\n",
       "      <td>NaN</td>\n",
       "      <td>NaN</td>\n",
       "      <td>0.0</td>\n",
       "      <td>0.0</td>\n",
       "      <td>0.0</td>\n",
       "      <td>0.0</td>\n",
       "    </tr>\n",
       "    <tr>\n",
       "      <th>1</th>\n",
       "      <td>58</td>\n",
       "      <td>2014090400</td>\n",
       "      <td>SEA</td>\n",
       "      <td>GB</td>\n",
       "      <td>GB</td>\n",
       "      <td>away</td>\n",
       "      <td>SEA</td>\n",
       "      <td>GB</td>\n",
       "      <td>87.0</td>\n",
       "      <td>9/4/2014</td>\n",
       "      <td>...</td>\n",
       "      <td>NaN</td>\n",
       "      <td>NaN</td>\n",
       "      <td>NaN</td>\n",
       "      <td>0</td>\n",
       "      <td>NaN</td>\n",
       "      <td>NaN</td>\n",
       "      <td>0.0</td>\n",
       "      <td>0.0</td>\n",
       "      <td>0.0</td>\n",
       "      <td>0.0</td>\n",
       "    </tr>\n",
       "    <tr>\n",
       "      <th>2</th>\n",
       "      <td>79</td>\n",
       "      <td>2014090400</td>\n",
       "      <td>SEA</td>\n",
       "      <td>GB</td>\n",
       "      <td>GB</td>\n",
       "      <td>away</td>\n",
       "      <td>SEA</td>\n",
       "      <td>GB</td>\n",
       "      <td>81.0</td>\n",
       "      <td>9/4/2014</td>\n",
       "      <td>...</td>\n",
       "      <td>00-0026618</td>\n",
       "      <td>M.Bennett</td>\n",
       "      <td>5.0</td>\n",
       "      <td>0</td>\n",
       "      <td>NaN</td>\n",
       "      <td>Defensive Offside</td>\n",
       "      <td>0.0</td>\n",
       "      <td>0.0</td>\n",
       "      <td>0.0</td>\n",
       "      <td>0.0</td>\n",
       "    </tr>\n",
       "    <tr>\n",
       "      <th>3</th>\n",
       "      <td>111</td>\n",
       "      <td>2014090400</td>\n",
       "      <td>SEA</td>\n",
       "      <td>GB</td>\n",
       "      <td>GB</td>\n",
       "      <td>away</td>\n",
       "      <td>SEA</td>\n",
       "      <td>GB</td>\n",
       "      <td>76.0</td>\n",
       "      <td>9/4/2014</td>\n",
       "      <td>...</td>\n",
       "      <td>NaN</td>\n",
       "      <td>NaN</td>\n",
       "      <td>NaN</td>\n",
       "      <td>0</td>\n",
       "      <td>NaN</td>\n",
       "      <td>NaN</td>\n",
       "      <td>0.0</td>\n",
       "      <td>0.0</td>\n",
       "      <td>0.0</td>\n",
       "      <td>0.0</td>\n",
       "    </tr>\n",
       "    <tr>\n",
       "      <th>4</th>\n",
       "      <td>132</td>\n",
       "      <td>2014090400</td>\n",
       "      <td>SEA</td>\n",
       "      <td>GB</td>\n",
       "      <td>GB</td>\n",
       "      <td>away</td>\n",
       "      <td>SEA</td>\n",
       "      <td>GB</td>\n",
       "      <td>61.0</td>\n",
       "      <td>9/4/2014</td>\n",
       "      <td>...</td>\n",
       "      <td>NaN</td>\n",
       "      <td>NaN</td>\n",
       "      <td>NaN</td>\n",
       "      <td>0</td>\n",
       "      <td>NaN</td>\n",
       "      <td>NaN</td>\n",
       "      <td>0.0</td>\n",
       "      <td>0.0</td>\n",
       "      <td>0.0</td>\n",
       "      <td>0.0</td>\n",
       "    </tr>\n",
       "  </tbody>\n",
       "</table>\n",
       "<p>5 rows × 255 columns</p>\n",
       "</div>"
      ],
      "text/plain": [
       "   play_id     game_id home_team away_team posteam posteam_type defteam  \\\n",
       "0       36  2014090400       SEA        GB      GB         away     SEA   \n",
       "1       58  2014090400       SEA        GB      GB         away     SEA   \n",
       "2       79  2014090400       SEA        GB      GB         away     SEA   \n",
       "3      111  2014090400       SEA        GB      GB         away     SEA   \n",
       "4      132  2014090400       SEA        GB      GB         away     SEA   \n",
       "\n",
       "  side_of_field  yardline_100 game_date             ...              \\\n",
       "0           SEA          35.0  9/4/2014             ...               \n",
       "1            GB          87.0  9/4/2014             ...               \n",
       "2            GB          81.0  9/4/2014             ...               \n",
       "3            GB          76.0  9/4/2014             ...               \n",
       "4            GB          61.0  9/4/2014             ...               \n",
       "\n",
       "   penalty_player_id  penalty_player_name  penalty_yards replay_or_challenge  \\\n",
       "0                NaN                  NaN            NaN                   0   \n",
       "1                NaN                  NaN            NaN                   0   \n",
       "2         00-0026618            M.Bennett            5.0                   0   \n",
       "3                NaN                  NaN            NaN                   0   \n",
       "4                NaN                  NaN            NaN                   0   \n",
       "\n",
       "   replay_or_challenge_result       penalty_type  defensive_two_point_attempt  \\\n",
       "0                         NaN                NaN                          0.0   \n",
       "1                         NaN                NaN                          0.0   \n",
       "2                         NaN  Defensive Offside                          0.0   \n",
       "3                         NaN                NaN                          0.0   \n",
       "4                         NaN                NaN                          0.0   \n",
       "\n",
       "   defensive_two_point_conv  defensive_extra_point_attempt  \\\n",
       "0                       0.0                            0.0   \n",
       "1                       0.0                            0.0   \n",
       "2                       0.0                            0.0   \n",
       "3                       0.0                            0.0   \n",
       "4                       0.0                            0.0   \n",
       "\n",
       "   defensive_extra_point_conv  \n",
       "0                         0.0  \n",
       "1                         0.0  \n",
       "2                         0.0  \n",
       "3                         0.0  \n",
       "4                         0.0  \n",
       "\n",
       "[5 rows x 255 columns]"
      ]
     },
     "execution_count": 4,
     "metadata": {},
     "output_type": "execute_result"
    }
   ],
   "source": [
    "NFL_data.head()"
   ]
  },
  {
   "cell_type": "code",
   "execution_count": 5,
   "metadata": {},
   "outputs": [],
   "source": [
    "# Convert the data column to datetime format so that we can compare\n",
    "NFL_data['game_date'] = pd.to_datetime(NFL_data['game_date'])"
   ]
  },
  {
   "cell_type": "code",
   "execution_count": 6,
   "metadata": {},
   "outputs": [
    {
     "data": {
      "text/plain": [
       "pass           93857\n",
       "run            64736\n",
       "no_play        21700\n",
       "kickoff        12708\n",
       "punt           11574\n",
       "extra_point     5423\n",
       "field_goal      4883\n",
       "qb_kneel        1995\n",
       "qb_spike         314\n",
       "Name: play_type, dtype: int64"
      ]
     },
     "execution_count": 6,
     "metadata": {},
     "output_type": "execute_result"
    }
   ],
   "source": [
    "NFL_data['play_type'].value_counts()"
   ]
  },
  {
   "cell_type": "code",
   "execution_count": 7,
   "metadata": {},
   "outputs": [
    {
     "data": {
      "image/png": "[encoded data removed]",
      "text/plain": [
       "<Figure size 850x425 with 1 Axes>"
      ]
     },
     "metadata": {
      "needs_background": "light"
     },
     "output_type": "display_data"
    }
   ],
   "source": [
    "fig, ax = plt.subplots(figsize=(10, 5), dpi = 85)\n",
    "f1 = NFL_data['play_type'].value_counts().plot(kind='barh') \n",
    "f1.set(title = \"Distribution by play type\", xlabel='Count', ylabel='Play Type')\n",
    "f1.set_xlim(0,100000)\n",
    "fig.tight_layout() \n",
    "plt.show()"
   ]
  },
  {
   "cell_type": "markdown",
   "metadata": {},
   "source": [
    "### Predictive modeling based on 'play type' for New England Patriots"
   ]
  },
  {
   "cell_type": "markdown",
   "metadata": {},
   "source": [
    "There are many fields that can help predict the plays, but we chose ‘play_type’ for our analysis. As the value we are trying to predict is represented by four columns which are dependent on ‘play_type’. We need to combine all these values into a single field."
   ]
  },
  {
   "cell_type": "code",
   "execution_count": 8,
   "metadata": {},
   "outputs": [
    {
     "data": {
      "text/plain": [
       "5145"
      ]
     },
     "execution_count": 8,
     "metadata": {},
     "output_type": "execute_result"
    }
   ],
   "source": [
    "# we are considering New Englanders with down not missing and play type either run or pass\n",
    "ne_data = NFL_data[(NFL_data.posteam=='NE')  & (NFL_data.down.isin([1.0, 2.0, 3.0, 4.0])) & ((NFL_data.play_type=='run') | (NFL_data.play_type == 'pass'))]\n",
    "len(ne_data)"
   ]
  },
  {
   "cell_type": "markdown",
   "metadata": {},
   "source": [
    "- Based on above plot, ‘run’ and ‘pass’ are most common play type. Hence, we combine ‘run’ and ‘pass’ with their location to get ‘full_play_type’. This variable was created as a combination of play_type, run_location (which way do the players run) and pass_location (which way do the players pass). If the play_type is “run” then run_location will be populated and pass location will be blank and otherwise for play_type as “pass”. By concatenating the play_type and run_location, pass_location accordingly, we created the dependent variable called full_play_type which consists of 6 categories- run_right, run_middle, run_left, pass_left, pass_middle, pass_right. The dependent variable was numerically encoded, and a new column was created ‘full_play_type_code’. "
   ]
  },
  {
   "cell_type": "code",
   "execution_count": 9,
   "metadata": {},
   "outputs": [],
   "source": [
    "# creating dependent variable by combinig play type, pass location and run location\n",
    "def dep_var(play):\n",
    "    play_type, pass_location, run_location = play\n",
    "    if(play_type == 'run'):\n",
    "        return play_type+'_'+ run_location\n",
    "    else:\n",
    "        return play_type+'_'+ pass_location\n",
    "ne_data = ne_data.replace(np.nan, 'unknown', regex=True)\n",
    "ne_data['full_play_type'] = ne_data[['play_type','pass_location', 'run_location']].apply(dep_var, axis=1)\n",
    "ne_data = ne_data[(ne_data.full_play_type.isin(['pass_left', 'pass_middle','pass_right','run_left', 'run_middle', 'run_right']))]"
   ]
  },
  {
   "cell_type": "code",
   "execution_count": 10,
   "metadata": {},
   "outputs": [],
   "source": [
    "# Since our goal is to predict the play type in a game we have selected the features to be used accordingly. \n",
    "# For the scope of this project we have restricted our features to 10 that we know are dependent on the play type as there are too many redundant variables.\n",
    "\n",
    "# Filtering out the columns\n",
    "\n",
    "ne_data = ne_data[['game_seconds_remaining', 'yardline_100', 'down', 'ydstogo', 'shotgun', 'score_differential', 'play_type', 'pass_length', 'pass_location', 'run_location', 'full_play_type']]"
   ]
  },
  {
   "cell_type": "code",
   "execution_count": 11,
   "metadata": {},
   "outputs": [
    {
     "data": {
      "text/html": [
       "<div>\n",
       "<style scoped>\n",
       "    .dataframe tbody tr th:only-of-type {\n",
       "        vertical-align: middle;\n",
       "    }\n",
       "\n",
       "    .dataframe tbody tr th {\n",
       "        vertical-align: top;\n",
       "    }\n",
       "\n",
       "    .dataframe thead th {\n",
       "        text-align: right;\n",
       "    }\n",
       "</style>\n",
       "<table border=\"1\" class=\"dataframe\">\n",
       "  <thead>\n",
       "    <tr style=\"text-align: right;\">\n",
       "      <th></th>\n",
       "      <th>game_seconds_remaining</th>\n",
       "      <th>yardline_100</th>\n",
       "      <th>down</th>\n",
       "      <th>ydstogo</th>\n",
       "      <th>shotgun</th>\n",
       "      <th>score_differential</th>\n",
       "      <th>play_type</th>\n",
       "      <th>pass_length</th>\n",
       "      <th>pass_location</th>\n",
       "      <th>run_location</th>\n",
       "      <th>full_play_type</th>\n",
       "    </tr>\n",
       "  </thead>\n",
       "  <tbody>\n",
       "    <tr>\n",
       "      <th>1828</th>\n",
       "      <td>3600.0</td>\n",
       "      <td>80.0</td>\n",
       "      <td>1.0</td>\n",
       "      <td>10</td>\n",
       "      <td>0</td>\n",
       "      <td>0.0</td>\n",
       "      <td>run</td>\n",
       "      <td>unknown</td>\n",
       "      <td>unknown</td>\n",
       "      <td>middle</td>\n",
       "      <td>run_middle</td>\n",
       "    </tr>\n",
       "    <tr>\n",
       "      <th>1829</th>\n",
       "      <td>3569.0</td>\n",
       "      <td>78.0</td>\n",
       "      <td>2.0</td>\n",
       "      <td>8</td>\n",
       "      <td>0</td>\n",
       "      <td>0.0</td>\n",
       "      <td>pass</td>\n",
       "      <td>short</td>\n",
       "      <td>left</td>\n",
       "      <td>unknown</td>\n",
       "      <td>pass_left</td>\n",
       "    </tr>\n",
       "    <tr>\n",
       "      <th>1830</th>\n",
       "      <td>3532.0</td>\n",
       "      <td>74.0</td>\n",
       "      <td>3.0</td>\n",
       "      <td>4</td>\n",
       "      <td>1</td>\n",
       "      <td>0.0</td>\n",
       "      <td>pass</td>\n",
       "      <td>short</td>\n",
       "      <td>middle</td>\n",
       "      <td>unknown</td>\n",
       "      <td>pass_middle</td>\n",
       "    </tr>\n",
       "    <tr>\n",
       "      <th>1838</th>\n",
       "      <td>3406.0</td>\n",
       "      <td>80.0</td>\n",
       "      <td>1.0</td>\n",
       "      <td>10</td>\n",
       "      <td>0</td>\n",
       "      <td>-7.0</td>\n",
       "      <td>pass</td>\n",
       "      <td>short</td>\n",
       "      <td>middle</td>\n",
       "      <td>unknown</td>\n",
       "      <td>pass_middle</td>\n",
       "    </tr>\n",
       "    <tr>\n",
       "      <th>1839</th>\n",
       "      <td>3368.0</td>\n",
       "      <td>72.0</td>\n",
       "      <td>2.0</td>\n",
       "      <td>2</td>\n",
       "      <td>0</td>\n",
       "      <td>-7.0</td>\n",
       "      <td>pass</td>\n",
       "      <td>short</td>\n",
       "      <td>left</td>\n",
       "      <td>unknown</td>\n",
       "      <td>pass_left</td>\n",
       "    </tr>\n",
       "  </tbody>\n",
       "</table>\n",
       "</div>"
      ],
      "text/plain": [
       "      game_seconds_remaining  yardline_100  down  ydstogo  shotgun  \\\n",
       "1828                  3600.0          80.0   1.0       10        0   \n",
       "1829                  3569.0          78.0   2.0        8        0   \n",
       "1830                  3532.0          74.0   3.0        4        1   \n",
       "1838                  3406.0          80.0   1.0       10        0   \n",
       "1839                  3368.0          72.0   2.0        2        0   \n",
       "\n",
       "      score_differential play_type pass_length pass_location run_location  \\\n",
       "1828                 0.0       run     unknown       unknown       middle   \n",
       "1829                 0.0      pass       short          left      unknown   \n",
       "1830                 0.0      pass       short        middle      unknown   \n",
       "1838                -7.0      pass       short        middle      unknown   \n",
       "1839                -7.0      pass       short          left      unknown   \n",
       "\n",
       "     full_play_type  \n",
       "1828     run_middle  \n",
       "1829      pass_left  \n",
       "1830    pass_middle  \n",
       "1838    pass_middle  \n",
       "1839      pass_left  "
      ]
     },
     "execution_count": 11,
     "metadata": {},
     "output_type": "execute_result"
    }
   ],
   "source": [
    "ne_data.head()"
   ]
  },
  {
   "cell_type": "code",
   "execution_count": 12,
   "metadata": {},
   "outputs": [
    {
     "data": {
      "text/plain": [
       "<matplotlib.axes._subplots.AxesSubplot at 0x1a220442b0>"
      ]
     },
     "execution_count": 12,
     "metadata": {},
     "output_type": "execute_result"
    },
    {
     "data": {
      "image/png": "[encoded data removed]",
      "text/plain": [
       "<Figure size 432x288 with 1 Axes>"
      ]
     },
     "metadata": {
      "needs_background": "light"
     },
     "output_type": "display_data"
    }
   ],
   "source": [
    "#Analyzing for potential patterns\n",
    "ne_data.groupby(['full_play_type']).count()[['play_type']].apply(lambda x:100 * x / float(x.sum())).plot(kind='bar', title =\"V comp\")"
   ]
  },
  {
   "cell_type": "markdown",
   "metadata": {},
   "source": [
    "- Normalized the features to have them in a uniform scale."
   ]
  },
  {
   "cell_type": "code",
   "execution_count": 13,
   "metadata": {},
   "outputs": [
    {
     "data": {
      "text/html": [
       "<div>\n",
       "<style scoped>\n",
       "    .dataframe tbody tr th:only-of-type {\n",
       "        vertical-align: middle;\n",
       "    }\n",
       "\n",
       "    .dataframe tbody tr th {\n",
       "        vertical-align: top;\n",
       "    }\n",
       "\n",
       "    .dataframe thead th {\n",
       "        text-align: right;\n",
       "    }\n",
       "</style>\n",
       "<table border=\"1\" class=\"dataframe\">\n",
       "  <thead>\n",
       "    <tr style=\"text-align: right;\">\n",
       "      <th></th>\n",
       "      <th>play_type</th>\n",
       "    </tr>\n",
       "    <tr>\n",
       "      <th>full_play_type</th>\n",
       "      <th></th>\n",
       "    </tr>\n",
       "  </thead>\n",
       "  <tbody>\n",
       "    <tr>\n",
       "      <th>pass_left</th>\n",
       "      <td>25.010020</td>\n",
       "    </tr>\n",
       "    <tr>\n",
       "      <th>pass_middle</th>\n",
       "      <td>14.709419</td>\n",
       "    </tr>\n",
       "    <tr>\n",
       "      <th>pass_right</th>\n",
       "      <td>18.657315</td>\n",
       "    </tr>\n",
       "    <tr>\n",
       "      <th>run_left</th>\n",
       "      <td>15.671343</td>\n",
       "    </tr>\n",
       "    <tr>\n",
       "      <th>run_middle</th>\n",
       "      <td>12.985972</td>\n",
       "    </tr>\n",
       "    <tr>\n",
       "      <th>run_right</th>\n",
       "      <td>12.965932</td>\n",
       "    </tr>\n",
       "  </tbody>\n",
       "</table>\n",
       "</div>"
      ],
      "text/plain": [
       "                play_type\n",
       "full_play_type           \n",
       "pass_left       25.010020\n",
       "pass_middle     14.709419\n",
       "pass_right      18.657315\n",
       "run_left        15.671343\n",
       "run_middle      12.985972\n",
       "run_right       12.965932"
      ]
     },
     "execution_count": 13,
     "metadata": {},
     "output_type": "execute_result"
    }
   ],
   "source": [
    "ne_data.groupby(['full_play_type']).count()[['play_type']].apply(lambda x:100 * x / float(x.sum()))"
   ]
  },
  {
   "cell_type": "code",
   "execution_count": 14,
   "metadata": {},
   "outputs": [],
   "source": [
    "#Converting dependent variable to numeric\n",
    "le = preprocessing.LabelEncoder()\n",
    "le.fit(ne_data.full_play_type)\n",
    "ne_data['full_play_type_code'] = le.transform(ne_data['full_play_type'])"
   ]
  },
  {
   "cell_type": "code",
   "execution_count": 15,
   "metadata": {},
   "outputs": [
    {
     "data": {
      "text/plain": [
       "<matplotlib.axes._subplots.AxesSubplot at 0x1a21f84b70>"
      ]
     },
     "execution_count": 15,
     "metadata": {},
     "output_type": "execute_result"
    },
    {
     "data": {
      "image/png": "[encoded data removed]",
      "text/plain": [
       "<Figure size 432x288 with 1 Axes>"
      ]
     },
     "metadata": {
      "needs_background": "light"
     },
     "output_type": "display_data"
    }
   ],
   "source": [
    "# Visualzing after transformation\n",
    "ne_data.groupby(['full_play_type_code']).count()[['down']].plot(kind='bar')"
   ]
  },
  {
   "cell_type": "code",
   "execution_count": 16,
   "metadata": {},
   "outputs": [],
   "source": [
    "#Creating dummy variables\n",
    "def creating_dummyvar(val, size, count):\n",
    "    i=0\n",
    "    for i in range(count):\n",
    "        if val <= (i+1)*size:\n",
    "            return i\n",
    "    return i\n",
    "def dummy_df(df):\n",
    "    df['ydstogo'] = [creating_dummyvar(x, 5, 5) for x in df['ydstogo']]\n",
    "    return df\n",
    "ne_data = dummy_df(ne_data)"
   ]
  },
  {
   "cell_type": "code",
   "execution_count": 17,
   "metadata": {},
   "outputs": [],
   "source": [
    "ne_data = pd.concat([ne_data, pd.get_dummies(ne_data['down'], prefix='down')], axis=1)\n",
    "ne_data = pd.concat([ne_data, pd.get_dummies(ne_data['ydstogo'], prefix='ydstogo')], axis=1)"
   ]
  },
  {
   "cell_type": "code",
   "execution_count": 18,
   "metadata": {},
   "outputs": [
    {
     "data": {
      "text/html": [
       "<div>\n",
       "<style scoped>\n",
       "    .dataframe tbody tr th:only-of-type {\n",
       "        vertical-align: middle;\n",
       "    }\n",
       "\n",
       "    .dataframe tbody tr th {\n",
       "        vertical-align: top;\n",
       "    }\n",
       "\n",
       "    .dataframe thead th {\n",
       "        text-align: right;\n",
       "    }\n",
       "</style>\n",
       "<table border=\"1\" class=\"dataframe\">\n",
       "  <thead>\n",
       "    <tr style=\"text-align: right;\">\n",
       "      <th></th>\n",
       "      <th>game_seconds_remaining</th>\n",
       "      <th>yardline_100</th>\n",
       "      <th>down</th>\n",
       "      <th>ydstogo</th>\n",
       "      <th>shotgun</th>\n",
       "      <th>score_differential</th>\n",
       "      <th>play_type</th>\n",
       "      <th>pass_length</th>\n",
       "      <th>pass_location</th>\n",
       "      <th>run_location</th>\n",
       "      <th>...</th>\n",
       "      <th>full_play_type_code</th>\n",
       "      <th>down_1.0</th>\n",
       "      <th>down_2.0</th>\n",
       "      <th>down_3.0</th>\n",
       "      <th>down_4.0</th>\n",
       "      <th>ydstogo_0</th>\n",
       "      <th>ydstogo_1</th>\n",
       "      <th>ydstogo_2</th>\n",
       "      <th>ydstogo_3</th>\n",
       "      <th>ydstogo_4</th>\n",
       "    </tr>\n",
       "  </thead>\n",
       "  <tbody>\n",
       "    <tr>\n",
       "      <th>1828</th>\n",
       "      <td>3600.0</td>\n",
       "      <td>80.0</td>\n",
       "      <td>1.0</td>\n",
       "      <td>1</td>\n",
       "      <td>0</td>\n",
       "      <td>0.0</td>\n",
       "      <td>run</td>\n",
       "      <td>unknown</td>\n",
       "      <td>unknown</td>\n",
       "      <td>middle</td>\n",
       "      <td>...</td>\n",
       "      <td>4</td>\n",
       "      <td>1</td>\n",
       "      <td>0</td>\n",
       "      <td>0</td>\n",
       "      <td>0</td>\n",
       "      <td>0</td>\n",
       "      <td>1</td>\n",
       "      <td>0</td>\n",
       "      <td>0</td>\n",
       "      <td>0</td>\n",
       "    </tr>\n",
       "    <tr>\n",
       "      <th>1829</th>\n",
       "      <td>3569.0</td>\n",
       "      <td>78.0</td>\n",
       "      <td>2.0</td>\n",
       "      <td>1</td>\n",
       "      <td>0</td>\n",
       "      <td>0.0</td>\n",
       "      <td>pass</td>\n",
       "      <td>short</td>\n",
       "      <td>left</td>\n",
       "      <td>unknown</td>\n",
       "      <td>...</td>\n",
       "      <td>0</td>\n",
       "      <td>0</td>\n",
       "      <td>1</td>\n",
       "      <td>0</td>\n",
       "      <td>0</td>\n",
       "      <td>0</td>\n",
       "      <td>1</td>\n",
       "      <td>0</td>\n",
       "      <td>0</td>\n",
       "      <td>0</td>\n",
       "    </tr>\n",
       "    <tr>\n",
       "      <th>1830</th>\n",
       "      <td>3532.0</td>\n",
       "      <td>74.0</td>\n",
       "      <td>3.0</td>\n",
       "      <td>0</td>\n",
       "      <td>1</td>\n",
       "      <td>0.0</td>\n",
       "      <td>pass</td>\n",
       "      <td>short</td>\n",
       "      <td>middle</td>\n",
       "      <td>unknown</td>\n",
       "      <td>...</td>\n",
       "      <td>1</td>\n",
       "      <td>0</td>\n",
       "      <td>0</td>\n",
       "      <td>1</td>\n",
       "      <td>0</td>\n",
       "      <td>1</td>\n",
       "      <td>0</td>\n",
       "      <td>0</td>\n",
       "      <td>0</td>\n",
       "      <td>0</td>\n",
       "    </tr>\n",
       "    <tr>\n",
       "      <th>1838</th>\n",
       "      <td>3406.0</td>\n",
       "      <td>80.0</td>\n",
       "      <td>1.0</td>\n",
       "      <td>1</td>\n",
       "      <td>0</td>\n",
       "      <td>-7.0</td>\n",
       "      <td>pass</td>\n",
       "      <td>short</td>\n",
       "      <td>middle</td>\n",
       "      <td>unknown</td>\n",
       "      <td>...</td>\n",
       "      <td>1</td>\n",
       "      <td>1</td>\n",
       "      <td>0</td>\n",
       "      <td>0</td>\n",
       "      <td>0</td>\n",
       "      <td>0</td>\n",
       "      <td>1</td>\n",
       "      <td>0</td>\n",
       "      <td>0</td>\n",
       "      <td>0</td>\n",
       "    </tr>\n",
       "    <tr>\n",
       "      <th>1839</th>\n",
       "      <td>3368.0</td>\n",
       "      <td>72.0</td>\n",
       "      <td>2.0</td>\n",
       "      <td>0</td>\n",
       "      <td>0</td>\n",
       "      <td>-7.0</td>\n",
       "      <td>pass</td>\n",
       "      <td>short</td>\n",
       "      <td>left</td>\n",
       "      <td>unknown</td>\n",
       "      <td>...</td>\n",
       "      <td>0</td>\n",
       "      <td>0</td>\n",
       "      <td>1</td>\n",
       "      <td>0</td>\n",
       "      <td>0</td>\n",
       "      <td>1</td>\n",
       "      <td>0</td>\n",
       "      <td>0</td>\n",
       "      <td>0</td>\n",
       "      <td>0</td>\n",
       "    </tr>\n",
       "  </tbody>\n",
       "</table>\n",
       "<p>5 rows × 21 columns</p>\n",
       "</div>"
      ],
      "text/plain": [
       "      game_seconds_remaining  yardline_100  down  ydstogo  shotgun  \\\n",
       "1828                  3600.0          80.0   1.0        1        0   \n",
       "1829                  3569.0          78.0   2.0        1        0   \n",
       "1830                  3532.0          74.0   3.0        0        1   \n",
       "1838                  3406.0          80.0   1.0        1        0   \n",
       "1839                  3368.0          72.0   2.0        0        0   \n",
       "\n",
       "      score_differential play_type pass_length pass_location run_location  \\\n",
       "1828                 0.0       run     unknown       unknown       middle   \n",
       "1829                 0.0      pass       short          left      unknown   \n",
       "1830                 0.0      pass       short        middle      unknown   \n",
       "1838                -7.0      pass       short        middle      unknown   \n",
       "1839                -7.0      pass       short          left      unknown   \n",
       "\n",
       "        ...     full_play_type_code  down_1.0  down_2.0  down_3.0  down_4.0  \\\n",
       "1828    ...                       4         1         0         0         0   \n",
       "1829    ...                       0         0         1         0         0   \n",
       "1830    ...                       1         0         0         1         0   \n",
       "1838    ...                       1         1         0         0         0   \n",
       "1839    ...                       0         0         1         0         0   \n",
       "\n",
       "      ydstogo_0  ydstogo_1  ydstogo_2  ydstogo_3  ydstogo_4  \n",
       "1828          0          1          0          0          0  \n",
       "1829          0          1          0          0          0  \n",
       "1830          1          0          0          0          0  \n",
       "1838          0          1          0          0          0  \n",
       "1839          1          0          0          0          0  \n",
       "\n",
       "[5 rows x 21 columns]"
      ]
     },
     "execution_count": 18,
     "metadata": {},
     "output_type": "execute_result"
    }
   ],
   "source": [
    "ne_data.head()"
   ]
  },
  {
   "cell_type": "code",
   "execution_count": 19,
   "metadata": {},
   "outputs": [
    {
     "data": {
      "text/html": [
       "<div>\n",
       "<style scoped>\n",
       "    .dataframe tbody tr th:only-of-type {\n",
       "        vertical-align: middle;\n",
       "    }\n",
       "\n",
       "    .dataframe tbody tr th {\n",
       "        vertical-align: top;\n",
       "    }\n",
       "\n",
       "    .dataframe thead th {\n",
       "        text-align: right;\n",
       "    }\n",
       "</style>\n",
       "<table border=\"1\" class=\"dataframe\">\n",
       "  <thead>\n",
       "    <tr style=\"text-align: right;\">\n",
       "      <th></th>\n",
       "      <th>game_seconds_remaining</th>\n",
       "      <th>yardline_100</th>\n",
       "      <th>down</th>\n",
       "      <th>ydstogo</th>\n",
       "      <th>shotgun</th>\n",
       "      <th>score_differential</th>\n",
       "      <th>full_play_type_code</th>\n",
       "      <th>down_1.0</th>\n",
       "      <th>down_2.0</th>\n",
       "      <th>down_3.0</th>\n",
       "      <th>down_4.0</th>\n",
       "      <th>ydstogo_0</th>\n",
       "      <th>ydstogo_1</th>\n",
       "      <th>ydstogo_2</th>\n",
       "      <th>ydstogo_3</th>\n",
       "      <th>ydstogo_4</th>\n",
       "    </tr>\n",
       "  </thead>\n",
       "  <tbody>\n",
       "    <tr>\n",
       "      <th>count</th>\n",
       "      <td>4990.000000</td>\n",
       "      <td>4990.000000</td>\n",
       "      <td>4990.000000</td>\n",
       "      <td>4990.000000</td>\n",
       "      <td>4990.000000</td>\n",
       "      <td>4990.000000</td>\n",
       "      <td>4990.000000</td>\n",
       "      <td>4990.000000</td>\n",
       "      <td>4990.000000</td>\n",
       "      <td>4990.000000</td>\n",
       "      <td>4990.000000</td>\n",
       "      <td>4990.00000</td>\n",
       "      <td>4990.000000</td>\n",
       "      <td>4990.000000</td>\n",
       "      <td>4990.000000</td>\n",
       "      <td>4990.000000</td>\n",
       "    </tr>\n",
       "    <tr>\n",
       "      <th>mean</th>\n",
       "      <td>1796.797996</td>\n",
       "      <td>49.307214</td>\n",
       "      <td>1.762124</td>\n",
       "      <td>0.907615</td>\n",
       "      <td>0.507615</td>\n",
       "      <td>4.102605</td>\n",
       "      <td>2.158116</td>\n",
       "      <td>0.458717</td>\n",
       "      <td>0.333667</td>\n",
       "      <td>0.194389</td>\n",
       "      <td>0.013226</td>\n",
       "      <td>0.23487</td>\n",
       "      <td>0.669739</td>\n",
       "      <td>0.056914</td>\n",
       "      <td>0.029860</td>\n",
       "      <td>0.008617</td>\n",
       "    </tr>\n",
       "    <tr>\n",
       "      <th>std</th>\n",
       "      <td>1018.454458</td>\n",
       "      <td>25.199672</td>\n",
       "      <td>0.805951</td>\n",
       "      <td>0.693065</td>\n",
       "      <td>0.499992</td>\n",
       "      <td>10.231216</td>\n",
       "      <td>1.722259</td>\n",
       "      <td>0.498343</td>\n",
       "      <td>0.471570</td>\n",
       "      <td>0.395769</td>\n",
       "      <td>0.114255</td>\n",
       "      <td>0.42396</td>\n",
       "      <td>0.470354</td>\n",
       "      <td>0.231701</td>\n",
       "      <td>0.170217</td>\n",
       "      <td>0.092437</td>\n",
       "    </tr>\n",
       "    <tr>\n",
       "      <th>min</th>\n",
       "      <td>3.000000</td>\n",
       "      <td>1.000000</td>\n",
       "      <td>1.000000</td>\n",
       "      <td>0.000000</td>\n",
       "      <td>0.000000</td>\n",
       "      <td>-33.000000</td>\n",
       "      <td>0.000000</td>\n",
       "      <td>0.000000</td>\n",
       "      <td>0.000000</td>\n",
       "      <td>0.000000</td>\n",
       "      <td>0.000000</td>\n",
       "      <td>0.00000</td>\n",
       "      <td>0.000000</td>\n",
       "      <td>0.000000</td>\n",
       "      <td>0.000000</td>\n",
       "      <td>0.000000</td>\n",
       "    </tr>\n",
       "    <tr>\n",
       "      <th>25%</th>\n",
       "      <td>927.250000</td>\n",
       "      <td>29.000000</td>\n",
       "      <td>1.000000</td>\n",
       "      <td>1.000000</td>\n",
       "      <td>0.000000</td>\n",
       "      <td>-1.000000</td>\n",
       "      <td>0.250000</td>\n",
       "      <td>0.000000</td>\n",
       "      <td>0.000000</td>\n",
       "      <td>0.000000</td>\n",
       "      <td>0.000000</td>\n",
       "      <td>0.00000</td>\n",
       "      <td>0.000000</td>\n",
       "      <td>0.000000</td>\n",
       "      <td>0.000000</td>\n",
       "      <td>0.000000</td>\n",
       "    </tr>\n",
       "    <tr>\n",
       "      <th>50%</th>\n",
       "      <td>1822.500000</td>\n",
       "      <td>52.000000</td>\n",
       "      <td>2.000000</td>\n",
       "      <td>1.000000</td>\n",
       "      <td>1.000000</td>\n",
       "      <td>3.000000</td>\n",
       "      <td>2.000000</td>\n",
       "      <td>0.000000</td>\n",
       "      <td>0.000000</td>\n",
       "      <td>0.000000</td>\n",
       "      <td>0.000000</td>\n",
       "      <td>0.00000</td>\n",
       "      <td>1.000000</td>\n",
       "      <td>0.000000</td>\n",
       "      <td>0.000000</td>\n",
       "      <td>0.000000</td>\n",
       "    </tr>\n",
       "    <tr>\n",
       "      <th>75%</th>\n",
       "      <td>2661.750000</td>\n",
       "      <td>71.000000</td>\n",
       "      <td>2.000000</td>\n",
       "      <td>1.000000</td>\n",
       "      <td>1.000000</td>\n",
       "      <td>10.000000</td>\n",
       "      <td>4.000000</td>\n",
       "      <td>1.000000</td>\n",
       "      <td>1.000000</td>\n",
       "      <td>0.000000</td>\n",
       "      <td>0.000000</td>\n",
       "      <td>0.00000</td>\n",
       "      <td>1.000000</td>\n",
       "      <td>0.000000</td>\n",
       "      <td>0.000000</td>\n",
       "      <td>0.000000</td>\n",
       "    </tr>\n",
       "    <tr>\n",
       "      <th>max</th>\n",
       "      <td>3600.000000</td>\n",
       "      <td>99.000000</td>\n",
       "      <td>4.000000</td>\n",
       "      <td>4.000000</td>\n",
       "      <td>1.000000</td>\n",
       "      <td>38.000000</td>\n",
       "      <td>5.000000</td>\n",
       "      <td>1.000000</td>\n",
       "      <td>1.000000</td>\n",
       "      <td>1.000000</td>\n",
       "      <td>1.000000</td>\n",
       "      <td>1.00000</td>\n",
       "      <td>1.000000</td>\n",
       "      <td>1.000000</td>\n",
       "      <td>1.000000</td>\n",
       "      <td>1.000000</td>\n",
       "    </tr>\n",
       "  </tbody>\n",
       "</table>\n",
       "</div>"
      ],
      "text/plain": [
       "       game_seconds_remaining  yardline_100         down      ydstogo  \\\n",
       "count             4990.000000   4990.000000  4990.000000  4990.000000   \n",
       "mean              1796.797996     49.307214     1.762124     0.907615   \n",
       "std               1018.454458     25.199672     0.805951     0.693065   \n",
       "min                  3.000000      1.000000     1.000000     0.000000   \n",
       "25%                927.250000     29.000000     1.000000     1.000000   \n",
       "50%               1822.500000     52.000000     2.000000     1.000000   \n",
       "75%               2661.750000     71.000000     2.000000     1.000000   \n",
       "max               3600.000000     99.000000     4.000000     4.000000   \n",
       "\n",
       "           shotgun  score_differential  full_play_type_code     down_1.0  \\\n",
       "count  4990.000000         4990.000000          4990.000000  4990.000000   \n",
       "mean      0.507615            4.102605             2.158116     0.458717   \n",
       "std       0.499992           10.231216             1.722259     0.498343   \n",
       "min       0.000000          -33.000000             0.000000     0.000000   \n",
       "25%       0.000000           -1.000000             0.250000     0.000000   \n",
       "50%       1.000000            3.000000             2.000000     0.000000   \n",
       "75%       1.000000           10.000000             4.000000     1.000000   \n",
       "max       1.000000           38.000000             5.000000     1.000000   \n",
       "\n",
       "          down_2.0     down_3.0     down_4.0   ydstogo_0    ydstogo_1  \\\n",
       "count  4990.000000  4990.000000  4990.000000  4990.00000  4990.000000   \n",
       "mean      0.333667     0.194389     0.013226     0.23487     0.669739   \n",
       "std       0.471570     0.395769     0.114255     0.42396     0.470354   \n",
       "min       0.000000     0.000000     0.000000     0.00000     0.000000   \n",
       "25%       0.000000     0.000000     0.000000     0.00000     0.000000   \n",
       "50%       0.000000     0.000000     0.000000     0.00000     1.000000   \n",
       "75%       1.000000     0.000000     0.000000     0.00000     1.000000   \n",
       "max       1.000000     1.000000     1.000000     1.00000     1.000000   \n",
       "\n",
       "         ydstogo_2    ydstogo_3    ydstogo_4  \n",
       "count  4990.000000  4990.000000  4990.000000  \n",
       "mean      0.056914     0.029860     0.008617  \n",
       "std       0.231701     0.170217     0.092437  \n",
       "min       0.000000     0.000000     0.000000  \n",
       "25%       0.000000     0.000000     0.000000  \n",
       "50%       0.000000     0.000000     0.000000  \n",
       "75%       0.000000     0.000000     0.000000  \n",
       "max       1.000000     1.000000     1.000000  "
      ]
     },
     "execution_count": 19,
     "metadata": {},
     "output_type": "execute_result"
    }
   ],
   "source": [
    "ne_data.describe()"
   ]
  },
  {
   "cell_type": "code",
   "execution_count": 20,
   "metadata": {},
   "outputs": [],
   "source": [
    "# Normalizing the features\n",
    "\n",
    "ne_data['game_seconds_remaining']/=3600\n",
    "ne_data['yardline_100']/=100\n",
    "ne_data['score_differential']=(ne_data['score_differential']+50)/100"
   ]
  },
  {
   "cell_type": "code",
   "execution_count": 21,
   "metadata": {},
   "outputs": [],
   "source": [
    "#select important columns for input\n",
    "X=ne_data[['yardline_100', 'shotgun', 'score_differential', 'game_seconds_remaining', 'down_1.0', 'down_2.0', 'down_3.0', \n",
    "        'down_4.0','ydstogo_0','ydstogo_1','ydstogo_2','ydstogo_3','ydstogo_4']]\n",
    "#select result column for output\n",
    "Y=ne_data['full_play_type_code']"
   ]
  },
  {
   "cell_type": "markdown",
   "metadata": {},
   "source": [
    "### Predictive Modeling"
   ]
  },
  {
   "cell_type": "code",
   "execution_count": 22,
   "metadata": {},
   "outputs": [],
   "source": [
    "#split data for train and test\n",
    "X_train, X_test, y_train, y_test = train_test_split(X, Y,test_size=0.25, random_state = 123)"
   ]
  },
  {
   "cell_type": "markdown",
   "metadata": {},
   "source": [
    "#### 1. Random Forest"
   ]
  },
  {
   "cell_type": "code",
   "execution_count": 23,
   "metadata": {},
   "outputs": [],
   "source": [
    "model1=RandomForestClassifier(max_depth=8, n_estimators=64)\n",
    "model1.fit(X_train, y_train)\n",
    "pred = model1.predict(X_test)"
   ]
  },
  {
   "cell_type": "code",
   "execution_count": 24,
   "metadata": {},
   "outputs": [
    {
     "name": "stdout",
     "output_type": "stream",
     "text": [
      "              precision    recall  f1-score   support\n",
      "\n",
      "           0       0.34      0.69      0.46       321\n",
      "           1       0.19      0.05      0.07       198\n",
      "           2       0.38      0.08      0.13       251\n",
      "           3       0.27      0.48      0.35       190\n",
      "           4       0.29      0.17      0.21       141\n",
      "           5       0.27      0.16      0.20       147\n",
      "\n",
      "   micro avg       0.31      0.31      0.31      1248\n",
      "   macro avg       0.29      0.27      0.24      1248\n",
      "weighted avg       0.30      0.31      0.26      1248\n",
      "\n",
      "Accuracy of the model= 0.3108974358974359\n"
     ]
    }
   ],
   "source": [
    "print(metrics.classification_report(y_test, pred))\n",
    "print(\"Accuracy of the model=\",metrics.accuracy_score(y_test, pred))"
   ]
  },
  {
   "cell_type": "code",
   "execution_count": 27,
   "metadata": {},
   "outputs": [
    {
     "name": "stdout",
     "output_type": "stream",
     "text": [
      "0.3108974358974359\n"
     ]
    }
   ],
   "source": [
    "pred = model1.predict(X_test)\n",
    "acc =accuracy_score(y_test, pred)\n",
    "print(acc)"
   ]
  },
  {
   "cell_type": "markdown",
   "metadata": {},
   "source": [
    "#### 2. Naive Bayes"
   ]
  },
  {
   "cell_type": "code",
   "execution_count": 28,
   "metadata": {},
   "outputs": [],
   "source": [
    "nb = MultinomialNB()\n",
    "# Train the model\n",
    "nb.fit(X_train, y_train)\n",
    "# Take the model that was trained on the X_train_cv data and apply it to the X_test_cv data\n",
    "y_pred = nb.predict(X_test)"
   ]
  },
  {
   "cell_type": "code",
   "execution_count": 29,
   "metadata": {},
   "outputs": [
    {
     "data": {
      "text/plain": [
       "0.3020833333333333"
      ]
     },
     "execution_count": 29,
     "metadata": {},
     "output_type": "execute_result"
    }
   ],
   "source": [
    "metrics.accuracy_score(y_test, y_pred)"
   ]
  },
  {
   "cell_type": "code",
   "execution_count": 105,
   "metadata": {},
   "outputs": [
    {
     "name": "stdout",
     "output_type": "stream",
     "text": [
      "              precision    recall  f1-score   support\n",
      "\n",
      "           0       0.31      0.75      0.44       321\n",
      "           1       0.28      0.07      0.11       198\n",
      "           2       0.00      0.00      0.00       251\n",
      "           3       0.30      0.52      0.38       190\n",
      "           4       0.26      0.18      0.21       141\n",
      "           5       0.00      0.00      0.00       147\n",
      "\n",
      "   micro avg       0.30      0.30      0.30      1248\n",
      "   macro avg       0.19      0.25      0.19      1248\n",
      "weighted avg       0.20      0.30      0.21      1248\n",
      "\n",
      "Accuracy of the model= 0.3020833333333333\n"
     ]
    },
    {
     "name": "stderr",
     "output_type": "stream",
     "text": [
      "C:\\Users\\jeyen\\Anaconda3\\lib\\site-packages\\sklearn\\metrics\\classification.py:1143: UndefinedMetricWarning: Precision and F-score are ill-defined and being set to 0.0 in labels with no predicted samples.\n",
      "  'precision', 'predicted', average, warn_for)\n",
      "C:\\Users\\jeyen\\Anaconda3\\lib\\site-packages\\sklearn\\metrics\\classification.py:1143: UndefinedMetricWarning: Precision and F-score are ill-defined and being set to 0.0 in labels with no predicted samples.\n",
      "  'precision', 'predicted', average, warn_for)\n",
      "C:\\Users\\jeyen\\Anaconda3\\lib\\site-packages\\sklearn\\metrics\\classification.py:1143: UndefinedMetricWarning: Precision and F-score are ill-defined and being set to 0.0 in labels with no predicted samples.\n",
      "  'precision', 'predicted', average, warn_for)\n"
     ]
    }
   ],
   "source": [
    "print(metrics.classification_report(y_test, y_pred))\n",
    "print(\"Accuracy of the model=\",metrics.accuracy_score(y_test, y_pred))"
   ]
  },
  {
   "cell_type": "markdown",
   "metadata": {},
   "source": [
    "#### Conclusion: After running the models, we were able to achieve an accuracy of 30% which clearly shows that prediction of the next play using Machine Learning works better than random guessing or applying simple averaging technique."
   ]
  },
  {
   "cell_type": "markdown",
   "metadata": {},
   "source": [
    "## Part 2. The Garoppolo Effect\n",
    "\n",
    "In October 2017, Jimmy Garoppolo was traded by the New England Patriots to the San Francisco 49ers. He played 5 games for them after being traded mid-season and led the 49ers to wins in all those games. It is said to be the biggest trade in the NFL history. The aim is to study the effect that 49ers; new quarterback Jimmy Garoppolo had on the 49ers’ offense during the 2017 season, known as the Garoppolo effect."
   ]
  },
  {
   "cell_type": "markdown",
   "metadata": {},
   "source": [
    "- We will just using 49ers data (where home or away team is 49ers) for the 2017 season. "
   ]
  },
  {
   "cell_type": "code",
   "execution_count": 30,
   "metadata": {},
   "outputs": [],
   "source": [
    "# Subsetting the data for the season 2017-2018\n",
    "g = NFL_data[ (NFL_data['game_date']>=pd.datetime(2017,9,1)) & (NFL_data['game_date']<=pd.datetime(2018,3,1))]"
   ]
  },
  {
   "cell_type": "markdown",
   "metadata": {},
   "source": [
    "- Missing Values"
   ]
  },
  {
   "cell_type": "code",
   "execution_count": 31,
   "metadata": {},
   "outputs": [
    {
     "data": {
      "text/plain": [
       "play_id                               0\n",
       "game_id                               0\n",
       "home_team                             0\n",
       "away_team                             0\n",
       "posteam                            7469\n",
       "posteam_type                       7274\n",
       "defteam                            7274\n",
       "side_of_field                       330\n",
       "yardline_100                       7368\n",
       "game_date                             0\n",
       "quarter_seconds_remaining            81\n",
       "half_seconds_remaining              105\n",
       "game_seconds_remaining              103\n",
       "game_half                             0\n",
       "quarter_end                           0\n",
       "drive                                 0\n",
       "sp                                    0\n",
       "qtr                                   0\n",
       "down                              34864\n",
       "goal_to_go                         7173\n",
       "time                                 81\n",
       "yrdln                               330\n",
       "ydstogo                               0\n",
       "ydsnet                                0\n",
       "desc                                  0\n",
       "play_type                          7274\n",
       "yards_gained                          0\n",
       "shotgun                               0\n",
       "no_huddle                             0\n",
       "qb_dropback                        7274\n",
       "                                  ...  \n",
       "pass_defense_1_player_name       213546\n",
       "pass_defense_2_player_id         224134\n",
       "pass_defense_2_player_name       224134\n",
       "fumbled_1_team                   221312\n",
       "fumbled_1_player_id              221312\n",
       "fumbled_1_player_name            221312\n",
       "fumbled_2_player_id              224443\n",
       "fumbled_2_player_name            224443\n",
       "fumbled_2_team                   224443\n",
       "fumble_recovery_1_team           221573\n",
       "fumble_recovery_1_yards          221573\n",
       "fumble_recovery_1_player_id      221573\n",
       "fumble_recovery_1_player_name    221574\n",
       "fumble_recovery_2_team           224442\n",
       "fumble_recovery_2_yards          224442\n",
       "fumble_recovery_2_player_id      224442\n",
       "fumble_recovery_2_player_name    224442\n",
       "return_team                      211783\n",
       "return_yards                          0\n",
       "penalty_team                     207556\n",
       "penalty_player_id                207556\n",
       "penalty_player_name              208262\n",
       "penalty_yards                    207556\n",
       "replay_or_challenge                   0\n",
       "replay_or_challenge_result       223654\n",
       "penalty_type                     208338\n",
       "defensive_two_point_attempt        7274\n",
       "defensive_two_point_conv           7274\n",
       "defensive_extra_point_attempt      7274\n",
       "defensive_extra_point_conv         7274\n",
       "Length: 255, dtype: int64"
      ]
     },
     "execution_count": 31,
     "metadata": {},
     "output_type": "execute_result"
    }
   ],
   "source": [
    "# get the number of missing data points per column\n",
    "missing_value_count = NFL_data.isnull().sum()\n",
    "missing_value_count"
   ]
  },
  {
   "cell_type": "code",
   "execution_count": 32,
   "metadata": {},
   "outputs": [
    {
     "data": {
      "text/plain": [
       "22122738"
      ]
     },
     "execution_count": 32,
     "metadata": {},
     "output_type": "execute_result"
    }
   ],
   "source": [
    "# how many total missing values we have?\n",
    "total_cells = np.product(NFL_data.shape)\n",
    "total_missing = missing_value_count.sum()\n",
    "total_missing"
   ]
  },
  {
   "cell_type": "code",
   "execution_count": 33,
   "metadata": {},
   "outputs": [
    {
     "data": {
      "text/plain": [
       "38.650222438394415"
      ]
     },
     "execution_count": 33,
     "metadata": {},
     "output_type": "execute_result"
    }
   ],
   "source": [
    "# percent of data that is missing\n",
    "(total_missing/total_cells)*100"
   ]
  },
  {
   "cell_type": "code",
   "execution_count": 34,
   "metadata": {},
   "outputs": [],
   "source": [
    "# replace all NA's with the value that comes directly after it in the same column\n",
    "NFL_data = NFL_data.fillna(method='bfill', axis=0).fillna(0)"
   ]
  },
  {
   "cell_type": "markdown",
   "metadata": {},
   "source": [
    "- Adding an additional column called ‘Jimmy’ that is yes if the game date is on or after December 3rd, 2017 and is no otherwise."
   ]
  },
  {
   "cell_type": "code",
   "execution_count": 35,
   "metadata": {},
   "outputs": [],
   "source": [
    "# Create a new column 'Jimmy' that is yes if the 'game_date' is on or after December 3rd, 2017 and no otherwise.\n",
    "g['Jimmy'] = np.where(g['game_date']>=pd.datetime(2017,12,3), 'yes', 'no')"
   ]
  },
  {
   "cell_type": "code",
   "execution_count": 36,
   "metadata": {},
   "outputs": [],
   "source": [
    "# San Fransisco 49ers specific data such that home or away team is the SF 49ers.\n",
    "g_niners = g[(g['home_team'] == 'SF') | (g['away_team'] == 'SF')]"
   ]
  },
  {
   "cell_type": "markdown",
   "metadata": {},
   "source": [
    "#### - Number of Touchdowns"
   ]
  },
  {
   "cell_type": "code",
   "execution_count": 37,
   "metadata": {},
   "outputs": [],
   "source": [
    "# home or away team being 'SF', a scoring play occurred, a touchdown occurred, the team on offense was 'SF'\n",
    "g_niners_td = g[(((g['home_team'] == 'SF') | (g['away_team'] == 'SF')) & (g['sp'] == 1) & (g['touchdown'] ==1) & (g['defteam'] != 'SF'))]"
   ]
  },
  {
   "cell_type": "code",
   "execution_count": 41,
   "metadata": {},
   "outputs": [
    {
     "name": "stdout",
     "output_type": "stream",
     "text": [
      "Touchdowns scored without Jimmy: 19\n",
      "Touchdowns scored with Jimmy: 13\n"
     ]
    }
   ],
   "source": [
    "# check how many touchdowns were scored without Jimmy and with him by subsetting our dataframe.\n",
    "print (\"Touchdowns scored without Jimmy:\" , len(g_niners_td[g_niners_td['Jimmy']== 'no']))\n",
    "print (\"Touchdowns scored with Jimmy:\" , len(g_niners_td[g_niners_td['Jimmy']== 'yes']))"
   ]
  },
  {
   "cell_type": "code",
   "execution_count": 42,
   "metadata": {},
   "outputs": [],
   "source": [
    "# graph the number of touchdowns scored while Jimmy started and did not start games.\n",
    "tds = g_niners_td.groupby('Jimmy').touchdown.sum()"
   ]
  },
  {
   "cell_type": "code",
   "execution_count": 44,
   "metadata": {},
   "outputs": [
    {
     "data": {
      "image/png": "[encoded data removed]",
      "text/plain": [
       "<Figure size 576x432 with 1 Axes>"
      ]
     },
     "metadata": {
      "needs_background": "light"
     },
     "output_type": "display_data"
    }
   ],
   "source": [
    "fig, ax = plt.subplots(figsize=(8, 6), dpi = 72)\n",
    "ax.set_title(\"Total Number of Touchdowns\", fontsize = 18, fontweight = 'bold') # Chart title\n",
    "ax.set_xlabel('Jimmy', fontsize = 15) # X-axis label\n",
    "ax.set_ylabel('Number of Touchdowns', fontsize = 15) # Y-axis label\n",
    "plt.xticks(fontsize = 13)\n",
    "plt.yticks(fontsize = 13)\n",
    "\n",
    "mycolors = ['#A6192E', '#85714D'] # Using scarlet and gold colors\n",
    "\n",
    "tds.plot(kind='bar', alpha = 0.9, rot=0, color = mycolors) # Plot a Bar chart\n",
    "plt.show()"
   ]
  },
  {
   "cell_type": "markdown",
   "metadata": {},
   "source": [
    "- Although, touchdowns with Jimmy looks lower but he played in only 5 games. So let's check touchdowns per game"
   ]
  },
  {
   "cell_type": "code",
   "execution_count": 45,
   "metadata": {},
   "outputs": [
    {
     "name": "stdout",
     "output_type": "stream",
     "text": [
      "11\n"
     ]
    }
   ],
   "source": [
    "# get the unique number of games Jimmy did not play in\n",
    "pre_jimmy = len( g_niners[g_niners['Jimmy'] == 'no']['game_id'].unique() )\n",
    "print (pre_jimmy)"
   ]
  },
  {
   "cell_type": "code",
   "execution_count": 46,
   "metadata": {},
   "outputs": [
    {
     "name": "stdout",
     "output_type": "stream",
     "text": [
      "5\n"
     ]
    }
   ],
   "source": [
    "# get the unique number of games that Jimmy did play in\n",
    "post_jimmy = len( g_niners[g_niners['Jimmy'] == 'yes']['game_id'].unique() )\n",
    "print (post_jimmy)"
   ]
  },
  {
   "cell_type": "code",
   "execution_count": 48,
   "metadata": {},
   "outputs": [
    {
     "name": "stdout",
     "output_type": "stream",
     "text": [
      "Before Jimmy, touchdowns per game was 1.73\n",
      "After Jimmy, touchdowns per game was 2.60\n"
     ]
    }
   ],
   "source": [
    "print (\"Before Jimmy, touchdowns per game was %.2f\" % (19/pre_jimmy))\n",
    "print (\"After Jimmy, touchdowns per game was %.2f\" % (13/post_jimmy))"
   ]
  },
  {
   "cell_type": "markdown",
   "metadata": {},
   "source": [
    "#### - Touchdowns and Interceptions over Time"
   ]
  },
  {
   "cell_type": "code",
   "execution_count": 49,
   "metadata": {},
   "outputs": [
    {
     "data": {
      "text/plain": [
       "game_date\n",
       "2017-09-10     2.0\n",
       "2017-09-17     1.0\n",
       "2017-09-21    10.0\n",
       "2017-10-01     1.0\n",
       "2017-10-08     4.0\n",
       "2017-10-15     6.0\n",
       "2017-10-22     7.0\n",
       "2017-10-29     5.0\n",
       "2017-11-05     3.0\n",
       "2017-11-12     6.0\n",
       "2017-11-26     4.0\n",
       "2017-12-03     2.0\n",
       "2017-12-10     4.0\n",
       "2017-12-17     3.0\n",
       "2017-12-24    10.0\n",
       "2017-12-31     5.0\n",
       "Name: touchdown, dtype: float64"
      ]
     },
     "execution_count": 49,
     "metadata": {},
     "output_type": "execute_result"
    }
   ],
   "source": [
    "# sum of touchdowns by game day\n",
    "td_by_date = g_niners.groupby('game_date')['touchdown'].sum()\n",
    "td_by_date"
   ]
  },
  {
   "cell_type": "code",
   "execution_count": 50,
   "metadata": {},
   "outputs": [
    {
     "data": {
      "text/plain": [
       "game_date\n",
       "2017-09-10    2.0\n",
       "2017-09-17    1.0\n",
       "2017-09-21    1.0\n",
       "2017-10-01    2.0\n",
       "2017-10-08    1.0\n",
       "2017-10-15    2.0\n",
       "2017-10-22    0.0\n",
       "2017-10-29    3.0\n",
       "2017-11-05    2.0\n",
       "2017-11-12    1.0\n",
       "2017-11-26    2.0\n",
       "2017-12-03    1.0\n",
       "2017-12-10    1.0\n",
       "2017-12-17    0.0\n",
       "2017-12-24    4.0\n",
       "2017-12-31    2.0\n",
       "Name: interception, dtype: float64"
      ]
     },
     "execution_count": 50,
     "metadata": {},
     "output_type": "execute_result"
    }
   ],
   "source": [
    "# sum of interceptions by game day\n",
    "interc_by_date = g_niners.groupby('game_date')['interception'].sum()\n",
    "interc_by_date"
   ]
  },
  {
   "cell_type": "code",
   "execution_count": 51,
   "metadata": {},
   "outputs": [
    {
     "data": {
      "image/png": "[encoded data removed]",
      "text/plain": [
       "<Figure size 900x540 with 1 Axes>"
      ]
     },
     "metadata": {
      "needs_background": "light"
     },
     "output_type": "display_data"
    }
   ],
   "source": [
    "fig, ax = plt.subplots(figsize=(10, 6), dpi = 90) # set plot size \n",
    "\n",
    "mycolors = ['#A6192E', '#85714D'] # Using scarlet and gold colors\n",
    "\n",
    "f1 = td_by_date.plot(color = mycolors[0]) # plot the touchdowns\n",
    "f2 = interc_by_date.plot(color = mycolors[1]) # plot the interceptions\n",
    "\n",
    "ax.set_title(\"Touchdowns and Interceptions over Time\", fontsize = 18) # Chart title\n",
    "ax.set_xlabel('Game Date', fontsize = 15) # X-axis label\n",
    "ax.set_ylabel('Count', fontsize = 15) # Y-axis label\n",
    "plt.xticks(fontsize = 10)\n",
    "plt.yticks(fontsize = 10)\n",
    "\n",
    "plt.axvline(dt.datetime(2017, 12, 3), color = 'black') # add a vertical line\n",
    "plt.legend(loc='upper center', frameon=True, facecolor=\"white\") # add a legend with a white background\n",
    "\n",
    "plt.show()"
   ]
  },
  {
   "cell_type": "markdown",
   "metadata": {},
   "source": [
    "#### The lines to the right of the black vertical line are games that Jimmy played. We notice that before he started for the 49ers, the team was on a downward trend and after he started, their offense started taking off again."
   ]
  },
  {
   "cell_type": "code",
   "execution_count": 52,
   "metadata": {},
   "outputs": [],
   "source": [
    "p1 = g_niners[g_niners['Jimmy']=='no']['play_type'].value_counts() \n",
    "p2 = g_niners[g_niners['Jimmy']=='yes']['play_type'].value_counts()"
   ]
  },
  {
   "cell_type": "code",
   "execution_count": 53,
   "metadata": {},
   "outputs": [
    {
     "data": {
      "text/plain": [
       "pass           856\n",
       "run            602\n",
       "no_play        196\n",
       "kickoff        113\n",
       "punt           112\n",
       "field_goal      50\n",
       "extra_point     44\n",
       "qb_kneel        22\n",
       "qb_spike         2\n",
       "Name: play_type, dtype: int64"
      ]
     },
     "execution_count": 53,
     "metadata": {},
     "output_type": "execute_result"
    }
   ],
   "source": [
    "p1"
   ]
  },
  {
   "cell_type": "code",
   "execution_count": 54,
   "metadata": {},
   "outputs": [],
   "source": [
    "a = p1/pre_jimmy\n",
    "b = p2/post_jimmy"
   ]
  },
  {
   "cell_type": "code",
   "execution_count": 56,
   "metadata": {},
   "outputs": [
    {
     "data": {
      "image/png": "[encoded data removed]",
      "text/plain": [
       "<Figure size 850x680 with 2 Axes>"
      ]
     },
     "metadata": {
      "needs_background": "light"
     },
     "output_type": "display_data"
    }
   ],
   "source": [
    "fig, ax = plt.subplots(2, 1, figsize=(10, 8), dpi = 85) # specify a plot with 2 rows and 1 column\n",
    "\n",
    "# get plays where Jimmy did not start and did start\n",
    "f1 = a.plot(kind='barh', ax=ax[0]) \n",
    "f2 = b.plot(kind='barh', ax=ax[1])\n",
    "\n",
    "f1.set(title = \"Before Jimmy's Starts\", xlabel='Count', ylabel='Play Type')\n",
    "f2.set(title = \"After Jimmy's Starts\", xlabel='Count', ylabel='Play Type')\n",
    "f1.set_xlim(0,100)\n",
    "f2.set_xlim(0,100)\n",
    "fig.tight_layout() # prevent overlapping axis labels\n",
    "\n",
    "plt.show()"
   ]
  },
  {
   "cell_type": "markdown",
   "metadata": {},
   "source": [
    "#### Conclusion: In 2016 season we saw 49ers were near bottom of the league. Whereas, in 2017 the Niners drastically improved and finished the season in top half and for this quarterback Jimmy Garoppolo deserves most of the credit."
   ]
  }
 ],
 "metadata": {
  "kernelspec": {
   "display_name": "Python 3",
   "language": "python",
   "name": "python3"
  },
  "language_info": {
   "codemirror_mode": {
    "name": "ipython",
    "version": 3
   },
   "file_extension": ".py",
   "mimetype": "text/x-python",
   "name": "python",
   "nbconvert_exporter": "python",
   "pygments_lexer": "ipython3",
   "version": "3.7.1"
  }
 },
 "nbformat": 4,
 "nbformat_minor": 2
}
